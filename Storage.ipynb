{
 "cells": [
  {
   "cell_type": "code",
   "execution_count": 5,
   "id": "7571d02d",
   "metadata": {},
   "outputs": [
    {
     "data": {
      "text/plain": [
       "[('migrations',),\n",
       " ('embeddings_queue',),\n",
       " ('embeddings_queue_config',),\n",
       " ('collection_metadata',),\n",
       " ('segment_metadata',),\n",
       " ('tenants',),\n",
       " ('databases',),\n",
       " ('collections',),\n",
       " ('maintenance_log',),\n",
       " ('segments',),\n",
       " ('embeddings',),\n",
       " ('embedding_metadata',),\n",
       " ('max_seq_id',),\n",
       " ('embedding_fulltext_search',),\n",
       " ('embedding_fulltext_search_data',),\n",
       " ('embedding_fulltext_search_idx',),\n",
       " ('embedding_fulltext_search_content',),\n",
       " ('embedding_fulltext_search_docsize',),\n",
       " ('embedding_fulltext_search_config',)]"
      ]
     },
     "execution_count": 5,
     "metadata": {},
     "output_type": "execute_result"
    }
   ],
   "source": [
    "import sqlite3\n",
    "conn=sqlite3.connect('/Users/amartyaghosh/Agents with Memory/OpenAI-Mem0-db/chroma.sqlite3')\n",
    "cursor=conn.cursor()\n",
    "cursor.execute(\"SELECT name FROM sqlite_master WHERE type='table';\")\n",
    "cursor.fetchall()"
   ]
  },
  {
   "cell_type": "code",
   "execution_count": 53,
   "id": "a4f8c203",
   "metadata": {},
   "outputs": [
    {
     "data": {
      "text/plain": [
       "<sqlite3.Cursor at 0x10594a540>"
      ]
     },
     "execution_count": 53,
     "metadata": {},
     "output_type": "execute_result"
    }
   ],
   "source": [
    "cursor.execute(\"SELECT * FROM segments;\")"
   ]
  },
  {
   "cell_type": "code",
   "execution_count": 54,
   "id": "89b44d5e",
   "metadata": {},
   "outputs": [
    {
     "data": {
      "text/plain": [
       "[('1d67c4b2-1c6e-43d1-908a-5e6db7cd593c',\n",
       "  'urn:chroma:segment/vector/hnsw-local-persisted',\n",
       "  'VECTOR',\n",
       "  '29c6894f-800a-4446-970f-7132b9f1f5b6'),\n",
       " ('bbcd2a20-6f1d-4f73-ae26-bee04515a041',\n",
       "  'urn:chroma:segment/metadata/sqlite',\n",
       "  'METADATA',\n",
       "  '29c6894f-800a-4446-970f-7132b9f1f5b6'),\n",
       " ('5e659184-c665-4623-8c60-1681d540e649',\n",
       "  'urn:chroma:segment/vector/hnsw-local-persisted',\n",
       "  'VECTOR',\n",
       "  'e1bd0d50-c401-4490-9d9a-2fe9728a07fa'),\n",
       " ('41c7a7de-0402-4c5a-8370-84e54e176b99',\n",
       "  'urn:chroma:segment/metadata/sqlite',\n",
       "  'METADATA',\n",
       "  'e1bd0d50-c401-4490-9d9a-2fe9728a07fa')]"
      ]
     },
     "execution_count": 54,
     "metadata": {},
     "output_type": "execute_result"
    }
   ],
   "source": [
    "cursor.fetchall()"
   ]
  },
  {
   "cell_type": "code",
   "execution_count": null,
   "id": "097e5da0",
   "metadata": {},
   "outputs": [],
   "source": []
  },
  {
   "cell_type": "code",
   "execution_count": null,
   "id": "b7335d65",
   "metadata": {},
   "outputs": [],
   "source": []
  }
 ],
 "metadata": {
  "kernelspec": {
   "display_name": "Projects",
   "language": "python",
   "name": "python3"
  },
  "language_info": {
   "codemirror_mode": {
    "name": "ipython",
    "version": 3
   },
   "file_extension": ".py",
   "mimetype": "text/x-python",
   "name": "python",
   "nbconvert_exporter": "python",
   "pygments_lexer": "ipython3",
   "version": "3.12.5"
  }
 },
 "nbformat": 4,
 "nbformat_minor": 5
}
