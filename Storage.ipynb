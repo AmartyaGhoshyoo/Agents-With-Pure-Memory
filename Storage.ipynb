{
 "cells": [
  {
   "cell_type": "code",
   "execution_count": 76,
   "id": "7571d02d",
   "metadata": {},
   "outputs": [
    {
     "data": {
      "text/plain": [
       "[('migrations',),\n",
       " ('embeddings_queue',),\n",
       " ('embeddings_queue_config',),\n",
       " ('collection_metadata',),\n",
       " ('segment_metadata',),\n",
       " ('tenants',),\n",
       " ('databases',),\n",
       " ('collections',),\n",
       " ('maintenance_log',),\n",
       " ('segments',),\n",
       " ('embeddings',),\n",
       " ('embedding_metadata',),\n",
       " ('max_seq_id',),\n",
       " ('embedding_fulltext_search',),\n",
       " ('embedding_fulltext_search_data',),\n",
       " ('embedding_fulltext_search_idx',),\n",
       " ('embedding_fulltext_search_content',),\n",
       " ('embedding_fulltext_search_docsize',),\n",
       " ('embedding_fulltext_search_config',)]"
      ]
     },
     "execution_count": 76,
     "metadata": {},
     "output_type": "execute_result"
    }
   ],
   "source": [
    "import sqlite3\n",
    "conn=sqlite3.connect('/Users/amartyaghosh/Downloads/OpenaAI Hackathon/AI_Blog_Urls/chroma.sqlite3')\n",
    "cursor=conn.cursor()\n",
    "cursor.execute(\"SELECT name FROM sqlite_master WHERE type='table';\")\n",
    "cursor.fetchall()"
   ]
  },
  {
   "cell_type": "code",
   "execution_count": 77,
   "id": "a4f8c203",
   "metadata": {},
   "outputs": [
    {
     "data": {
      "text/plain": [
       "<sqlite3.Cursor at 0x109d906c0>"
      ]
     },
     "execution_count": 77,
     "metadata": {},
     "output_type": "execute_result"
    }
   ],
   "source": [
    "cursor.execute(\"SELECT * FROM embedding_fulltext_search_content;\")"
   ]
  },
  {
   "cell_type": "code",
   "execution_count": 78,
   "id": "89b44d5e",
   "metadata": {},
   "outputs": [
    {
     "data": {
      "text/plain": [
       "[(1, 'url: http://localhost:3000/, description: Home page'),\n",
       " (2, 'url: http://localhost:3000/docs, description: Documentation index'),\n",
       " (3,\n",
       "  'url: http://localhost:3000/docs/[slug], description: Dynamic docs page (pattern)'),\n",
       " (4,\n",
       "  'url: http://localhost:3000/reader, description: In-app reader with iframe and fallback'),\n",
       " (5,\n",
       "  'url: http://localhost:3000/#top, description: Scroll to top of home page'),\n",
       " (6,\n",
       "  'url: http://localhost:3000/#features, description: Home page features section'),\n",
       " (7,\n",
       "  'url: http://localhost:3000/#showcase, description: Home page showcase section'),\n",
       " (8,\n",
       "  'url: http://localhost:3000/#pricing, description: Home page pricing section'),\n",
       " (9, 'url: http://localhost:3000/#faq, description: Home page FAQ section'),\n",
       " (10,\n",
       "  'url: http://localhost:3000/docs/getting-started, description: Getting Started guide'),\n",
       " (11,\n",
       "  'url: http://localhost:3000/docs/architecture-overview, description: Architecture overview'),\n",
       " (12,\n",
       "  'url: http://localhost:3000/docs/api-quickstart, description: API quickstart'),\n",
       " (13,\n",
       "  'url: http://localhost:3000/docs/auth-and-sso, description: Authentication and SSO'),\n",
       " (14, 'url: http://localhost:3000/docs/webhooks, description: Webhooks guide'),\n",
       " (15,\n",
       "  'url: http://localhost:3000/docs/rate-limiting, description: Rate limiting'),\n",
       " (16,\n",
       "  'url: http://localhost:3000/docs/error-handling, description: Error handling'),\n",
       " (17,\n",
       "  'url: http://localhost:3000/docs/observability, description: Observability'),\n",
       " (18, 'url: http://localhost:3000/docs/logging, description: Logging'),\n",
       " (19,\n",
       "  'url: http://localhost:3000/docs/monitoring-alerts, description: Monitoring and alerts'),\n",
       " (20,\n",
       "  'url: http://localhost:3000/docs/security-hardening, description: Security hardening'),\n",
       " (21,\n",
       "  'url: http://localhost:3000/docs/gdpr-data-retention, description: GDPR and data retention'),\n",
       " (22,\n",
       "  'url: http://localhost:3000/docs/backup-disaster-recovery, description: Backup and disaster recovery'),\n",
       " (23,\n",
       "  'url: http://localhost:3000/docs/performance-tuning, description: Performance tuning'),\n",
       " (24,\n",
       "  'url: http://localhost:3000/docs/caching-strategies, description: Caching strategies'),\n",
       " (25,\n",
       "  'url: http://localhost:3000/docs/database-migrations, description: Database migrations'),\n",
       " (26,\n",
       "  'url: http://localhost:3000/docs/testing-strategy, description: Testing strategy'),\n",
       " (27,\n",
       "  'url: http://localhost:3000/docs/ci-cd-pipeline, description: CI/CD pipeline'),\n",
       " (28,\n",
       "  'url: http://localhost:3000/docs/feature-flags, description: Feature flags'),\n",
       " (29,\n",
       "  'url: http://localhost:3000/docs/accessibility, description: Accessibility (a11y)'),\n",
       " (30,\n",
       "  'url: http://localhost:3000/docs/internationalization, description: Internationalization (i18n)'),\n",
       " (31, 'url: http://localhost:3000/docs/seo-basics, description: SEO basics'),\n",
       " (32,\n",
       "  'url: http://localhost:3000/docs/content-delivery, description: Content delivery & CDN'),\n",
       " (33,\n",
       "  'url: http://localhost:3000/docs/mobile-ux, description: Mobile UX patterns'),\n",
       " (34,\n",
       "  'url: http://localhost:3000/docs/email-deliverability, description: Email deliverability'),\n",
       " (35,\n",
       "  'url: http://localhost:3000/docs/billing-subscriptions, description: Billing & subscriptions'),\n",
       " (36,\n",
       "  'url: http://localhost:3000/docs/support-slas, description: Support & SLAs'),\n",
       " (37,\n",
       "  'url: http://localhost:3000/docs/changelog-release-notes, description: Changelog & release notes'),\n",
       " (38,\n",
       "  'url: http://localhost:3000/docs/roadmap-rfcs, description: Roadmap & RFCs')]"
      ]
     },
     "execution_count": 78,
     "metadata": {},
     "output_type": "execute_result"
    }
   ],
   "source": [
    "cursor.fetchall()"
   ]
  },
  {
   "cell_type": "code",
   "execution_count": null,
   "id": "097e5da0",
   "metadata": {},
   "outputs": [],
   "source": []
  },
  {
   "cell_type": "code",
   "execution_count": null,
   "id": "b7335d65",
   "metadata": {},
   "outputs": [],
   "source": []
  }
 ],
 "metadata": {
  "kernelspec": {
   "display_name": "Projects",
   "language": "python",
   "name": "python3"
  },
  "language_info": {
   "codemirror_mode": {
    "name": "ipython",
    "version": 3
   },
   "file_extension": ".py",
   "mimetype": "text/x-python",
   "name": "python",
   "nbconvert_exporter": "python",
   "pygments_lexer": "ipython3",
   "version": "3.12.5"
  }
 },
 "nbformat": 4,
 "nbformat_minor": 5
}
